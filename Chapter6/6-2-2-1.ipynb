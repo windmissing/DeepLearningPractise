{
 "cells": [
  {
   "cell_type": "code",
   "execution_count": 1,
   "metadata": {},
   "outputs": [],
   "source": [
    "import torch.nn as nn\n",
    "import torch.nn.functional as F\n",
    "from torch.autograd import Variable\n",
    "import torch as t"
   ]
  },
  {
   "cell_type": "code",
   "execution_count": 2,
   "metadata": {},
   "outputs": [],
   "source": [
    "class Net(nn.Module):\n",
    "    def __init__(self):\n",
    "        super(Net, self).__init__()\n",
    "        \n",
    "        self.fc1 = nn.Linear(28*28, 30)\n",
    "        self.fc2 = nn.Linear(30, 10)\n",
    "        \n",
    "    def forward(self, x):\n",
    "        x = x.view(x.shape[0], -1)\n",
    "        x = self.fc1(x)\n",
    "        x = self.fc2(x)\n",
    "        return x"
   ]
  },
  {
   "cell_type": "code",
   "execution_count": 3,
   "metadata": {},
   "outputs": [
    {
     "name": "stdout",
     "output_type": "stream",
     "text": [
      "Net(\n",
      "  (fc1): Linear(in_features=784, out_features=30, bias=True)\n",
      "  (fc2): Linear(in_features=30, out_features=10, bias=True)\n",
      ")\n"
     ]
    }
   ],
   "source": [
    "net = Net()\n",
    "print (net)"
   ]
  },
  {
   "cell_type": "code",
   "execution_count": 6,
   "metadata": {},
   "outputs": [],
   "source": [
    "from mnist_loader import load_data_shared\n",
    "training_data, validation_data, test_data = load_data_shared(filename=\"../mnist.pkl.gz\",\n",
    "                                                                     seed=666,\n",
    "                                                                     train_size=2000,\n",
    "                                                                     vali_size=0,\n",
    "                                                                     test_size=100)"
   ]
  },
  {
   "cell_type": "code",
   "execution_count": 8,
   "metadata": {},
   "outputs": [
    {
     "name": "stderr",
     "output_type": "stream",
     "text": [
      "C:\\Users\\yinahe\\AppData\\Local\\Continuum\\anaconda3\\lib\\site-packages\\torch\\nn\\modules\\loss.py:431: UserWarning: Using a target size (torch.Size([10])) that is different to the input size (torch.Size([1, 10])). This will likely lead to incorrect results due to broadcasting. Please ensure they have the same size.\n",
      "  return F.mse_loss(input, target, reduction=self.reduction)\n"
     ]
    },
    {
     "name": "stdout",
     "output_type": "stream",
     "text": [
      "[1,  2000] loss: 0.063\n",
      "[2,  2000] loss: 0.048\n",
      "[3,  2000] loss: 0.045\n",
      "[4,  2000] loss: 0.043\n",
      "[5,  2000] loss: 0.042\n",
      "[6,  2000] loss: 0.041\n",
      "[7,  2000] loss: 0.040\n",
      "[8,  2000] loss: 0.040\n",
      "[9,  2000] loss: 0.039\n",
      "[10,  2000] loss: 0.039\n",
      "[11,  2000] loss: 0.039\n",
      "[12,  2000] loss: 0.038\n",
      "[13,  2000] loss: 0.038\n",
      "[14,  2000] loss: 0.038\n",
      "[15,  2000] loss: 0.038\n",
      "[16,  2000] loss: 0.037\n",
      "[17,  2000] loss: 0.037\n",
      "[18,  2000] loss: 0.037\n",
      "[19,  2000] loss: 0.037\n",
      "[20,  2000] loss: 0.037\n",
      "[21,  2000] loss: 0.037\n",
      "[22,  2000] loss: 0.036\n",
      "[23,  2000] loss: 0.036\n",
      "[24,  2000] loss: 0.036\n",
      "[25,  2000] loss: 0.036\n",
      "[26,  2000] loss: 0.036\n",
      "[27,  2000] loss: 0.036\n",
      "[28,  2000] loss: 0.036\n",
      "[29,  2000] loss: 0.036\n",
      "[30,  2000] loss: 0.035\n",
      "[31,  2000] loss: 0.035\n",
      "[32,  2000] loss: 0.035\n",
      "[33,  2000] loss: 0.035\n",
      "[34,  2000] loss: 0.035\n",
      "[35,  2000] loss: 0.035\n",
      "[36,  2000] loss: 0.035\n",
      "[37,  2000] loss: 0.035\n",
      "[38,  2000] loss: 0.035\n",
      "[39,  2000] loss: 0.035\n",
      "[40,  2000] loss: 0.035\n",
      "[41,  2000] loss: 0.035\n",
      "[42,  2000] loss: 0.034\n",
      "[43,  2000] loss: 0.034\n",
      "[44,  2000] loss: 0.034\n",
      "[45,  2000] loss: 0.034\n",
      "[46,  2000] loss: 0.034\n",
      "[47,  2000] loss: 0.034\n",
      "[48,  2000] loss: 0.034\n",
      "[49,  2000] loss: 0.034\n",
      "[50,  2000] loss: 0.034\n",
      "[51,  2000] loss: 0.034\n",
      "[52,  2000] loss: 0.034\n",
      "[53,  2000] loss: 0.034\n",
      "[54,  2000] loss: 0.034\n",
      "[55,  2000] loss: 0.034\n",
      "[56,  2000] loss: 0.034\n",
      "[57,  2000] loss: 0.034\n",
      "[58,  2000] loss: 0.034\n",
      "[59,  2000] loss: 0.034\n",
      "[60,  2000] loss: 0.034\n",
      "[61,  2000] loss: 0.033\n",
      "[62,  2000] loss: 0.033\n",
      "[63,  2000] loss: 0.033\n",
      "[64,  2000] loss: 0.033\n",
      "[65,  2000] loss: 0.033\n",
      "[66,  2000] loss: 0.033\n",
      "[67,  2000] loss: 0.033\n",
      "[68,  2000] loss: 0.033\n",
      "[69,  2000] loss: 0.033\n",
      "[70,  2000] loss: 0.033\n",
      "[71,  2000] loss: 0.033\n",
      "[72,  2000] loss: 0.033\n",
      "[73,  2000] loss: 0.033\n",
      "[74,  2000] loss: 0.033\n",
      "[75,  2000] loss: 0.033\n",
      "[76,  2000] loss: 0.033\n",
      "[77,  2000] loss: 0.033\n",
      "[78,  2000] loss: 0.033\n",
      "[79,  2000] loss: 0.033\n",
      "[80,  2000] loss: 0.033\n",
      "[81,  2000] loss: 0.033\n",
      "[82,  2000] loss: 0.033\n",
      "[83,  2000] loss: 0.033\n",
      "[84,  2000] loss: 0.033\n",
      "[85,  2000] loss: 0.033\n",
      "[86,  2000] loss: 0.033\n",
      "[87,  2000] loss: 0.033\n",
      "[88,  2000] loss: 0.033\n",
      "[89,  2000] loss: 0.033\n",
      "[90,  2000] loss: 0.033\n",
      "[91,  2000] loss: 0.033\n",
      "[92,  2000] loss: 0.033\n",
      "[93,  2000] loss: 0.033\n",
      "[94,  2000] loss: 0.032\n",
      "[95,  2000] loss: 0.032\n",
      "[96,  2000] loss: 0.032\n",
      "[97,  2000] loss: 0.032\n",
      "[98,  2000] loss: 0.032\n",
      "[99,  2000] loss: 0.032\n",
      "[100,  2000] loss: 0.032\n",
      "Finished Training\n"
     ]
    }
   ],
   "source": [
    "import torch.optim as optim\n",
    "#criterion = nn.CrossEntropyLoss()\n",
    "criterion = nn.MSELoss()\n",
    "#optimizer = optim.SGD(net.parameters(), lr=0.001, momentum=0.9)\n",
    "optimizer = optim.SGD(net.parameters(), lr = 0.01)\n",
    "\n",
    "import numpy as np\n",
    "for epoch in range(100):  # loop over the dataset multiple times\n",
    "    running_loss = 0.0\n",
    "    for index in range(training_data[0].shape[0]):\n",
    "        # get the inputs\n",
    "        inputs, labels = t.Tensor(training_data[0][index]), t.Tensor(training_data[1][index])\n",
    "\n",
    "        # zero the parameter gradients\n",
    "        optimizer.zero_grad()\n",
    "\n",
    "        # forward + backward + optimize\n",
    "        outputs = net(inputs[np.newaxis, :])\n",
    "        loss = criterion(outputs, labels.float())\n",
    "        loss.backward()\n",
    "        optimizer.step()\n",
    "\n",
    "        # print statistics\n",
    "        running_loss += loss.item()\n",
    "        if index % 2000 == 1999:    # print every 2000 mini-batches\n",
    "            print('[%d, %5d] loss: %.3f' %\n",
    "                  (epoch + 1, index + 1, running_loss / 2000))\n",
    "            running_loss = 0.0\n",
    "\n",
    "print('Finished Training')"
   ]
  },
  {
   "cell_type": "code",
   "execution_count": 9,
   "metadata": {},
   "outputs": [
    {
     "name": "stdout",
     "output_type": "stream",
     "text": [
      "0.83\n"
     ]
    }
   ],
   "source": [
    "correct = 0\n",
    "for index in range(test_data[0].shape[0]):\n",
    "    # get the inputs\n",
    "    inputs, labels = t.Tensor(test_data[0][index][np.newaxis, :]), test_data[1][index]\n",
    "\n",
    "    # forward + backward + optimize\n",
    "    outputs = net(inputs[np.newaxis, :])\n",
    "    _, predicted = t.max(outputs, 1)\n",
    "    \n",
    "    #print('Predicted: ', predicted.data[0])\n",
    "    #print('target: ', labels)\n",
    "    \n",
    "    if ((predicted.data[0] == labels).item()):\n",
    "        correct += 1\n",
    "\n",
    "print (correct / test_data[0].shape[0])"
   ]
  },
  {
   "cell_type": "code",
   "execution_count": null,
   "metadata": {},
   "outputs": [],
   "source": []
  },
  {
   "cell_type": "code",
   "execution_count": null,
   "metadata": {},
   "outputs": [],
   "source": []
  }
 ],
 "metadata": {
  "kernelspec": {
   "display_name": "Python 3",
   "language": "python",
   "name": "python3"
  },
  "language_info": {
   "codemirror_mode": {
    "name": "ipython",
    "version": 3
   },
   "file_extension": ".py",
   "mimetype": "text/x-python",
   "name": "python",
   "nbconvert_exporter": "python",
   "pygments_lexer": "ipython3",
   "version": "3.7.3"
  }
 },
 "nbformat": 4,
 "nbformat_minor": 2
}
